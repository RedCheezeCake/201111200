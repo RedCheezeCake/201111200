{
 "cells": [
  {
   "cell_type": "markdown",
   "metadata": {},
   "source": [
    "# 페이징이 있는 크롤링"
   ]
  },
  {
   "cell_type": "code",
   "execution_count": 3,
   "metadata": {
    "collapsed": false
   },
   "outputs": [
    {
     "name": "stdout",
     "output_type": "stream",
     "text": [
      "Writing p_web_data_8.py\n"
     ]
    }
   ],
   "source": [
    "%%writefile p_web_data_8.py\n",
    "import scrapy\n",
    "\n",
    "class QuoteItem(scrapy.Item):\n",
    "    text = scrapy.Field()   \n",
    "    author = scrapy.Field() \n",
    "\n",
    "class QuotesSpider(scrapy.Spider):\n",
    "    name = \"quotes\"\n",
    "    start_urls = [\n",
    "        'http://quotes.toscrape.com/page/1/',\n",
    "    ]\n",
    "    def parse(self, response):\n",
    "        for quote in response.xpath('//div[@class=\"quote\"]'):\n",
    "            item = QuoteItem()\n",
    "            item['text'] = quote.xpath('span[@class=\"text\"]/text()').extract_first()\n",
    "            item['author'] = quote.xpath('span/small/text()').extract_first()\n",
    "            print \"crawling \",item['author']\n",
    "            yield item  ## Iterator for Paging\n",
    "        next_page = response.xpath('//li[@class=\"next\"]/a/@href').extract_first()\n",
    "        if next_page:\n",
    "            next_page = response.urljoin(next_page)\n",
    "            print \"--> visiting \",next_page\n",
    "            yield scrapy.Request(next_page, callback=self.parse)"
   ]
  },
  {
   "cell_type": "markdown",
   "metadata": {},
   "source": [
    "! 는 운영체재를 부르는 명령어, 따로 실행을 시켜줘야 돼"
   ]
  }
 ],
 "metadata": {
  "kernelspec": {
   "display_name": "Python [Root]",
   "language": "python",
   "name": "Python [Root]"
  },
  "language_info": {
   "codemirror_mode": {
    "name": "ipython",
    "version": 2
   },
   "file_extension": ".py",
   "mimetype": "text/x-python",
   "name": "python",
   "nbconvert_exporter": "python",
   "pygments_lexer": "ipython2",
   "version": "2.7.12"
  }
 },
 "nbformat": 4,
 "nbformat_minor": 0
}
