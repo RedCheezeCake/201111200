{
 "cells": [
  {
   "cell_type": "code",
   "execution_count": 1,
   "metadata": {
    "collapsed": false
   },
   "outputs": [
    {
     "name": "stdout",
     "output_type": "stream",
     "text": [
      "Writing my.xml\n"
     ]
    }
   ],
   "source": [
    "%%writefile my.xml\n",
    "<?xml version=\"1.0\" encoding=\"utf-8\"?>\n",
    "<wikimedia>\n",
    "  <projects>\n",
    "    <project name=\"Wikipedia\" launch=\"2001-01-05\">\n",
    "      <editions>\n",
    "        <edition language=\"English\">en.wikipedia.org</edition>\n",
    "        <edition language=\"German\">de.wikipedia.org</edition>\n",
    "        <edition language=\"French\">fr.wikipedia.org</edition>\n",
    "        <edition language=\"Polish\">pl.wikipedia.org</edition>\n",
    "        <edition language=\"Spanish\">es.wikipedia.org</edition>\n",
    "      </editions>\n",
    "    </project>\n",
    "    <project name=\"Wiktionary\" launch=\"2002-12-12\">\n",
    "      <editions>\n",
    "        <edition language=\"English\">en.wiktionary.org</edition>\n",
    "        <edition language=\"French\">fr.wiktionary.org</edition>\n",
    "        <edition language=\"Vietnamese\">vi.wiktionary.org</edition>\n",
    "        <edition language=\"Turkish\">tr.wiktionary.org</edition>\n",
    "        <edition language=\"Spanish\">es.wiktionary.org</edition>\n",
    "      </editions>\n",
    "    </project>\n",
    "  </projects>\n",
    "</wikimedia>"
   ]
  },
  {
   "cell_type": "code",
   "execution_count": 2,
   "metadata": {
    "collapsed": true
   },
   "outputs": [],
   "source": [
    "import lxml\n",
    "import lxml.etree\n",
    "\n",
    "tree = lxml.etree.parse('my.xml')\n",
    "\n",
    "tree.getroot()\n",
    "\n",
    "nodes = tree.xpath('/wikipedia')"
   ]
  },
  {
   "cell_type": "code",
   "execution_count": 7,
   "metadata": {
    "collapsed": false
   },
   "outputs": [
    {
     "name": "stdout",
     "output_type": "stream",
     "text": [
      "2\n"
     ]
    }
   ],
   "source": [
    "nodes = tree.xpath(\"/wikimedia/projects/project/@name\")\n",
    "print len(nodes)"
   ]
  },
  {
   "cell_type": "code",
   "execution_count": 6,
   "metadata": {
    "collapsed": false
   },
   "outputs": [
    {
     "ename": "NameError",
     "evalue": "name 'root' is not defined",
     "output_type": "error",
     "traceback": [
      "\u001b[1;31m---------------------------------------------------------------------------\u001b[0m",
      "\u001b[1;31mNameError\u001b[0m                                 Traceback (most recent call last)",
      "\u001b[1;32m<ipython-input-6-b3102c118526>\u001b[0m in \u001b[0;36m<module>\u001b[1;34m()\u001b[0m\n\u001b[1;32m----> 1\u001b[1;33m \u001b[1;32mprint\u001b[0m\u001b[1;33m(\u001b[0m\u001b[0mroot\u001b[0m\u001b[1;33m)\u001b[0m\u001b[1;33m\u001b[0m\u001b[0m\n\u001b[0m",
      "\u001b[1;31mNameError\u001b[0m: name 'root' is not defined"
     ]
    }
   ],
   "source": [
    "print(root)"
   ]
  },
  {
   "cell_type": "code",
   "execution_count": 5,
   "metadata": {
    "collapsed": false
   },
   "outputs": [
    {
     "data": {
      "text/plain": [
       "0"
      ]
     },
     "execution_count": 5,
     "metadata": {},
     "output_type": "execute_result"
    }
   ],
   "source": [
    "len(nodes)"
   ]
  },
  {
   "cell_type": "code",
   "execution_count": 8,
   "metadata": {
    "collapsed": false
   },
   "outputs": [
    {
     "name": "stdout",
     "output_type": "stream",
     "text": [
      "Wikipedia\n",
      "Wiktionary\n"
     ]
    }
   ],
   "source": [
    "for node in nodes:\n",
    "    print node"
   ]
  },
  {
   "cell_type": "code",
   "execution_count": 12,
   "metadata": {
    "collapsed": false,
    "scrolled": true
   },
   "outputs": [
    {
     "data": {
      "text/html": [
       "<!DOCTYPE html>\n",
       "<html>\n",
       "<head>\n",
       "    <meta charset=\"UTF-8\">\n",
       "    <title>My Home Page</title>\n",
       "    <style>\n",
       "        h1 {text-align: center;\n",
       "           color:grey;\n",
       "        };\n",
       "    </style>\n",
       "</head>\n",
       "<body>\n",
       "    <h1>안녕하십니까</h1>\n",
       "    <p>오늘은 프로그래밍 하는 날...</p>\n",
       "    <p>Today we do programming...</p>\n",
       "</body>\n",
       "</html>"
      ],
      "text/plain": [
       "<IPython.core.display.HTML object>"
      ]
     },
     "metadata": {},
     "output_type": "display_data"
    }
   ],
   "source": [
    "%%HTML\n",
    "<!DOCTYPE html>\n",
    "<html>\n",
    "<head>\n",
    "    <meta charset=\"UTF-8\">\n",
    "    <title>My Home Page</title>\n",
    "    <style>\n",
    "        h1 {text-align: center;\n",
    "           color:grey;\n",
    "        };\n",
    "    </style>\n",
    "</head>\n",
    "<body>\n",
    "    <h1>안녕하십니까</h1>\n",
    "    <p>오늘은 프로그래밍 하는 날...</p>\n",
    "    <p>Today we do programming...</p>\n",
    "</body>\n",
    "</html>"
   ]
  },
  {
   "cell_type": "code",
   "execution_count": null,
   "metadata": {
    "collapsed": true
   },
   "outputs": [],
   "source": []
  },
  {
   "cell_type": "code",
   "execution_count": 13,
   "metadata": {
    "collapsed": false,
    "scrolled": true
   },
   "outputs": [
    {
     "data": {
      "text/plain": [
       "lxml.etree._ElementTree"
      ]
     },
     "execution_count": 13,
     "metadata": {},
     "output_type": "execute_result"
    }
   ],
   "source": [
    "type(tree)"
   ]
  },
  {
   "cell_type": "code",
   "execution_count": 15,
   "metadata": {
    "collapsed": false
   },
   "outputs": [],
   "source": [
    "from lxml.cssselect import CSSSelector"
   ]
  },
  {
   "cell_type": "code",
   "execution_count": 16,
   "metadata": {
    "collapsed": false,
    "scrolled": true
   },
   "outputs": [
    {
     "ename": "ImportError",
     "evalue": "No module named CSSSelector",
     "output_type": "error",
     "traceback": [
      "\u001b[1;31m---------------------------------------------------------------------------\u001b[0m",
      "\u001b[1;31mImportError\u001b[0m                               Traceback (most recent call last)",
      "\u001b[1;32m<ipython-input-16-8bffeaec72db>\u001b[0m in \u001b[0;36m<module>\u001b[1;34m()\u001b[0m\n\u001b[1;32m----> 1\u001b[1;33m \u001b[1;32mimport\u001b[0m \u001b[0mlxml\u001b[0m\u001b[1;33m.\u001b[0m\u001b[0mcssselect\u001b[0m\u001b[1;33m.\u001b[0m\u001b[0mCSSSelector\u001b[0m\u001b[1;33m\u001b[0m\u001b[0m\n\u001b[0m",
      "\u001b[1;31mImportError\u001b[0m: No module named CSSSelector"
     ]
    }
   ],
   "source": [
    "import lxml.cssselect.CSSSelector"
   ]
  },
  {
   "cell_type": "code",
   "execution_count": 18,
   "metadata": {
    "collapsed": false
   },
   "outputs": [],
   "source": [
    "sel =CSSSelector('wikimedia')"
   ]
  },
  {
   "cell_type": "code",
   "execution_count": null,
   "metadata": {
    "collapsed": true
   },
   "outputs": [],
   "source": []
  },
  {
   "cell_type": "code",
   "execution_count": 20,
   "metadata": {
    "collapsed": false
   },
   "outputs": [],
   "source": [
    "result = sel(tree)"
   ]
  },
  {
   "cell_type": "code",
   "execution_count": 23,
   "metadata": {
    "collapsed": false
   },
   "outputs": [
    {
     "name": "stdout",
     "output_type": "stream",
     "text": [
      "<wikimedia>\n",
      "  <projects>\n",
      "    <project name=\"Wikipedia\" launch=\"2001-01-05\">\n",
      "      <editions>\n",
      "        <edition language=\"English\">en.wikipedia.org</edition>\n",
      "        <edition language=\"German\">de.wikipedia.org</edition>\n",
      "        <edition language=\"French\">fr.wikipedia.org</edition>\n",
      "        <edition language=\"Polish\">pl.wikipedia.org</edition>\n",
      "        <edition language=\"Spanish\">es.wikipedia.org</edition>\n",
      "      </editions>\n",
      "    </project>\n",
      "    <project name=\"Wiktionary\" launch=\"2002-12-12\">\n",
      "      <editions>\n",
      "        <edition language=\"English\">en.wiktionary.org</edition>\n",
      "        <edition language=\"French\">fr.wiktionary.org</edition>\n",
      "        <edition language=\"Vietnamese\">vi.wiktionary.org</edition>\n",
      "        <edition language=\"Turkish\">tr.wiktionary.org</edition>\n",
      "        <edition language=\"Spanish\">es.wiktionary.org</edition>\n",
      "      </editions>\n",
      "    </project>\n",
      "  </projects>\n",
      "</wikimedia>\n"
     ]
    }
   ],
   "source": [
    "for each in result:\n",
    "    print lxml.html.tostring(each)"
   ]
  },
  {
   "cell_type": "code",
   "execution_count": 22,
   "metadata": {
    "collapsed": true
   },
   "outputs": [],
   "source": [
    "import lxml.html"
   ]
  },
  {
   "cell_type": "code",
   "execution_count": 24,
   "metadata": {
    "collapsed": false,
    "scrolled": true
   },
   "outputs": [
    {
     "data": {
      "text/plain": [
       "[<Element wikimedia at 0x3e9e908>]"
      ]
     },
     "execution_count": 24,
     "metadata": {},
     "output_type": "execute_result"
    }
   ],
   "source": [
    "result"
   ]
  },
  {
   "cell_type": "code",
   "execution_count": 25,
   "metadata": {
    "collapsed": true
   },
   "outputs": [],
   "source": [
    "myhtml=\"\"\"<!DOCTYPE html>\n",
    "<html>\n",
    "<head>\n",
    "<meta charset=\"UTF-8\">\n",
    "<title>My Home Page</title>\n",
    "</head>\n",
    "<body>\n",
    "<h1>안녕하십니까</h1>\n",
    "<p>오늘은 프로그래밍 하는 날...</p>\n",
    "<p>Today we do programming...</p>\n",
    "</body>\n",
    "</html>\"\"\""
   ]
  },
  {
   "cell_type": "code",
   "execution_count": 28,
   "metadata": {
    "collapsed": false
   },
   "outputs": [],
   "source": [
    "_html = lxml.html.fromstring(myhtml)"
   ]
  },
  {
   "cell_type": "code",
   "execution_count": 37,
   "metadata": {
    "collapsed": true
   },
   "outputs": [],
   "source": [
    "sel = CSSSelector('body')"
   ]
  },
  {
   "cell_type": "code",
   "execution_count": 38,
   "metadata": {
    "collapsed": true
   },
   "outputs": [],
   "source": [
    "result = sel(_html)"
   ]
  },
  {
   "cell_type": "code",
   "execution_count": 39,
   "metadata": {
    "collapsed": false
   },
   "outputs": [
    {
     "name": "stdout",
     "output_type": "stream",
     "text": [
      "\n",
      "\n"
     ]
    }
   ],
   "source": [
    "for r in result:\n",
    "    print r.text"
   ]
  },
  {
   "cell_type": "code",
   "execution_count": 32,
   "metadata": {
    "collapsed": true
   },
   "outputs": [],
   "source": [
    "sel = CSSSelector('body p')"
   ]
  },
  {
   "cell_type": "code",
   "execution_count": 33,
   "metadata": {
    "collapsed": true
   },
   "outputs": [],
   "source": [
    "result = sel(_html)"
   ]
  },
  {
   "cell_type": "code",
   "execution_count": 35,
   "metadata": {
    "collapsed": false
   },
   "outputs": [
    {
     "name": "stdout",
     "output_type": "stream",
     "text": [
      "오늘은 프로그래밍 하는 날...\n",
      "Today we do programming...\n"
     ]
    }
   ],
   "source": [
    "for r in result:\n",
    "    print r.text"
   ]
  },
  {
   "cell_type": "code",
   "execution_count": 45,
   "metadata": {
    "collapsed": false
   },
   "outputs": [],
   "source": [
    "sel = CSSSelector('body .p')\n",
    "result = sel(_html)\n",
    "for r in result:\n",
    "    print r.text"
   ]
  },
  {
   "cell_type": "code",
   "execution_count": 41,
   "metadata": {
    "collapsed": false
   },
   "outputs": [
    {
     "name": "stdout",
     "output_type": "stream",
     "text": [
      "안녕하십니까\n"
     ]
    }
   ],
   "source": [
    "sel = CSSSelector('body h1')\n",
    "result = sel(_html)\n",
    "for r in result:\n",
    "    print r.text"
   ]
  },
  {
   "cell_type": "code",
   "execution_count": 42,
   "metadata": {
    "collapsed": false
   },
   "outputs": [
    {
     "name": "stdout",
     "output_type": "stream",
     "text": [
      "오늘은 프로그래밍 하는 날...\n",
      "Today we do programming...\n"
     ]
    }
   ],
   "source": [
    "sel = CSSSelector('body > p')\n",
    "result = sel(_html)\n",
    "for r in result:\n",
    "    print r.text"
   ]
  },
  {
   "cell_type": "markdown",
   "metadata": {},
   "source": [
    " ## 웹데이터 -1 : python.org"
   ]
  },
  {
   "cell_type": "code",
   "execution_count": 46,
   "metadata": {
    "collapsed": true
   },
   "outputs": [],
   "source": [
    "import urllib"
   ]
  },
  {
   "cell_type": "code",
   "execution_count": 63,
   "metadata": {
    "collapsed": false
   },
   "outputs": [],
   "source": [
    "response= urllib.urlopen('http://python.org')"
   ]
  },
  {
   "cell_type": "code",
   "execution_count": 64,
   "metadata": {
    "collapsed": true
   },
   "outputs": [],
   "source": [
    "_html = response.read()"
   ]
  },
  {
   "cell_type": "code",
   "execution_count": 65,
   "metadata": {
    "collapsed": false
   },
   "outputs": [
    {
     "name": "stdout",
     "output_type": "stream",
     "text": [
      "47433\n"
     ]
    }
   ],
   "source": [
    "print len(_html)"
   ]
  },
  {
   "cell_type": "code",
   "execution_count": 51,
   "metadata": {
    "collapsed": false,
    "scrolled": true
   },
   "outputs": [
    {
     "name": "stdout",
     "output_type": "stream",
     "text": [
      "nt=\"True\">\n",
      "    <meta name=\"format-detection\" content=\"telephone=no\">\n",
      "    <meta http-equiv=\"cleartype\" content=\"on\">\n",
      "    <meta http-equiv=\"imagetoolbar\" content=\"false\">\n",
      "\n",
      "    <script src=\"/static/js/libs/modernizr.js\"></script>\n",
      "\n",
      "    <link href=\"/static/stylesheets/style.css\" rel=\"stylesheet\" type=\"text/css\" title=\"default\" />\n",
      "    <link href=\"/static/stylesheets/mq.css\" rel=\"stylesheet\" type=\"text/css\" media=\"not print, braille, embossed, speech, tty\" />\n",
      "    \n",
      "\n",
      "    <!--[if (lte IE 8)&(!IEMobile)]>\n",
      "    <link href=\"/static/stylesheets/no-mq.css\" rel=\"stylesheet\" type=\"text/css\" media=\"screen\" />\n",
      "    \n",
      "    \n",
      "    <![endif]-->\n",
      "\n",
      "    \n",
      "    <link rel=\"icon\" type=\"image/x-icon\" href=\"/static/favicon.ico\">\n",
      "    <link rel=\"apple-touch-icon-precomposed\" sizes=\"144x144\" href=\"/static/apple-touch-icon-144x144-precomposed.png\">\n",
      "    <link rel=\"apple-touch-icon-precomposed\" sizes=\"114x114\" href=\"/static/apple-touch-icon-114x114-precomposed.png\">\n",
      "    <link rel=\"apple-touch-icon-precomposed\" sizes=\"72x72\" href=\n"
     ]
    }
   ],
   "source": [
    "print _html[1000:2000]"
   ]
  },
  {
   "cell_type": "code",
   "execution_count": 66,
   "metadata": {
    "collapsed": true
   },
   "outputs": [],
   "source": [
    "import re"
   ]
  },
  {
   "cell_type": "code",
   "execution_count": 75,
   "metadata": {
    "collapsed": true
   },
   "outputs": [],
   "source": [
    "p = re.compile('href=\"(http://.*?)\"')"
   ]
  },
  {
   "cell_type": "code",
   "execution_count": 76,
   "metadata": {
    "collapsed": false
   },
   "outputs": [],
   "source": [
    "res= p.findall(_html)"
   ]
  },
  {
   "cell_type": "code",
   "execution_count": 77,
   "metadata": {
    "collapsed": false
   },
   "outputs": [
    {
     "data": {
      "text/plain": [
       "46"
      ]
     },
     "execution_count": 77,
     "metadata": {},
     "output_type": "execute_result"
    }
   ],
   "source": [
    "len(res)"
   ]
  },
  {
   "cell_type": "code",
   "execution_count": 78,
   "metadata": {
    "collapsed": false,
    "scrolled": true
   },
   "outputs": [
    {
     "name": "stdout",
     "output_type": "stream",
     "text": [
      "http://www.ie6countdown.com/\n",
      "http://browsehappy.com/\n",
      "http://www.google.com/chromeframe/?redirect=true\n",
      "http://plus.google.com/+Python\n",
      "http://www.facebook.com/pythonlang?fref=ts\n",
      "http://twitter.com/ThePSF\n",
      "http://brochure.getpython.info/\n",
      "http://wiki.python.org/moin/Languages\n",
      "http://python.org/dev/peps/\n",
      "http://planetpython.org/\n",
      "http://pyfound.blogspot.com/\n",
      "http://pycon.blogspot.com/\n",
      "http://docs.python.org/3/tutorial/introduction.html#using-python-as-a-calculator\n",
      "http://blog.python.org\n",
      "http://feedproxy.google.com/~r/PythonInsider/~3/6vXS6z9YHg0/python-360-beta-1-is-now-available.html\n",
      "http://feedproxy.google.com/~r/PythonInsider/~3/ukG8L0FEq2Q/python-360-alpha-4-preview-release-is.html\n",
      "http://feedproxy.google.com/~r/PythonInsider/~3/6i6vUY_x_SE/python-360-alpha-3-preview-release-is.html\n",
      "http://feedproxy.google.com/~r/PythonInsider/~3/1zUlkKxW27U/python-2712-released.html\n",
      "http://feedproxy.google.com/~r/PythonInsider/~3/gCTfatUv_t4/python-352-and-python-345-are-now.html\n",
      "http://www.djangoproject.com/\n",
      "http://www.pylonsproject.org/\n",
      "http://bottlepy.org\n",
      "http://tornadoweb.org\n",
      "http://flask.pocoo.org/\n",
      "http://www.web2py.com/\n",
      "http://www.wxpython.org/\n",
      "http://wiki.python.org/moin/TkInter\n",
      "http://www.pygtk.org\n",
      "http://www.riverbankcomputing.co.uk/software/pyqt/intro\n",
      "http://www.scipy.org\n",
      "http://pandas.pydata.org/\n",
      "http://ipython.org\n",
      "http://buildbot.net/\n",
      "http://trac.edgewall.org/\n",
      "http://roundup.sourceforge.net/\n",
      "http://www.ansible.com\n",
      "http://www.saltstack.com\n",
      "http://brochure.getpython.info/\n",
      "http://wiki.python.org/moin/Languages\n",
      "http://python.org/dev/peps/\n",
      "http://planetpython.org/\n",
      "http://pyfound.blogspot.com/\n",
      "http://pycon.blogspot.com/\n",
      "http://docs.python.org/devguide/\n",
      "http://bugs.python.org/\n",
      "http://pythonmentors.com/\n"
     ]
    }
   ],
   "source": [
    "for item in res:\n",
    "    print item"
   ]
  },
  {
   "cell_type": "code",
   "execution_count": 80,
   "metadata": {
    "collapsed": true
   },
   "outputs": [],
   "source": [
    "p = re.compile('<h1>(.*?)</h1>')"
   ]
  },
  {
   "cell_type": "code",
   "execution_count": 81,
   "metadata": {
    "collapsed": true
   },
   "outputs": [],
   "source": [
    "h1tag = p.findall(_html)"
   ]
  },
  {
   "cell_type": "code",
   "execution_count": 82,
   "metadata": {
    "collapsed": false,
    "scrolled": true
   },
   "outputs": [
    {
     "name": "stdout",
     "output_type": "stream",
     "text": [
      "Functions Defined\n",
      "Compound Data Types\n",
      "Intuitive Interpretation\n",
      "Quick &amp; Easy to Learn\n",
      "All the Flow You&rsquo;d Expect\n"
     ]
    }
   ],
   "source": [
    "for item in h1tag:\n",
    "    print item"
   ]
  },
  {
   "cell_type": "code",
   "execution_count": 13,
   "metadata": {
    "collapsed": true
   },
   "outputs": [],
   "source": [
    "import urllib\n",
    "response= urllib.urlopen('http://python.org')\n",
    "_html = response.read()"
   ]
  },
  {
   "cell_type": "code",
   "execution_count": 5,
   "metadata": {
    "collapsed": false
   },
   "outputs": [],
   "source": [
    "##BeautifulSoup\n",
    "from bs4 import BeautifulSoup\n",
    "soup = BeautifulSoup(_html)"
   ]
  },
  {
   "cell_type": "code",
   "execution_count": 7,
   "metadata": {
    "collapsed": false
   },
   "outputs": [
    {
     "data": {
      "text/plain": [
       "7"
      ]
     },
     "execution_count": 7,
     "metadata": {},
     "output_type": "execute_result"
    }
   ],
   "source": [
    "len(soup)"
   ]
  },
  {
   "cell_type": "raw",
   "metadata": {},
   "source": []
  },
  {
   "cell_type": "code",
   "execution_count": 11,
   "metadata": {
    "collapsed": false
   },
   "outputs": [
    {
     "name": "stdout",
     "output_type": "stream",
     "text": [
      "<strong>Notice:</strong>\n",
      "<strong><small>A</small> A</strong>\n",
      "<strong>relaunched community-run job board</strong>\n"
     ]
    }
   ],
   "source": [
    "strongTags = soup('strong')\n",
    "for tag in strongTags:\n",
    "    print tag"
   ]
  },
  {
   "cell_type": "code",
   "execution_count": 15,
   "metadata": {
    "collapsed": false,
    "scrolled": true
   },
   "outputs": [],
   "source": [
    "_html=urllib.urlopen('http://python.org')"
   ]
  },
  {
   "cell_type": "code",
   "execution_count": 17,
   "metadata": {
    "collapsed": false
   },
   "outputs": [],
   "source": [
    "soup = BeautifulSoup(_html)"
   ]
  },
  {
   "cell_type": "code",
   "execution_count": 20,
   "metadata": {
    "collapsed": true
   },
   "outputs": [],
   "source": [
    "aTags=soup.findAll('a')"
   ]
  },
  {
   "cell_type": "code",
   "execution_count": 23,
   "metadata": {
    "collapsed": false
   },
   "outputs": [
    {
     "name": "stdout",
     "output_type": "stream",
     "text": [
      "#content\n",
      "#python-network\n",
      "/\n",
      "/psf-landing/\n",
      "https://docs.python.org\n",
      "https://pypi.python.org/\n",
      "/jobs/\n",
      "/community/\n",
      "#top\n",
      "/\n",
      "#site-map\n",
      "#\n",
      "javascript:;\n",
      "javascript:;\n",
      "javascript:;\n",
      "#\n",
      "http://plus.google.com/+Python\n",
      "http://www.facebook.com/pythonlang?fref=ts\n",
      "http://twitter.com/ThePSF\n",
      "/community/irc/\n",
      "/accounts/login/\n",
      "/accounts/signup/\n",
      "/accounts/login/\n",
      "/about/\n",
      "/about/apps/\n",
      "/about/quotes/\n",
      "/about/gettingstarted/\n",
      "/about/help/\n",
      "http://brochure.getpython.info/\n",
      "/downloads/\n",
      "/downloads/\n",
      "/downloads/source/\n",
      "/downloads/windows/\n",
      "/downloads/mac-osx/\n",
      "/download/other/\n",
      "https://docs.python.org/3/license.html\n",
      "/download/alternatives\n",
      "/doc/\n",
      "/doc/\n",
      "/doc/av\n",
      "https://wiki.python.org/moin/BeginnersGuide\n",
      "https://docs.python.org/devguide/\n",
      "https://docs.python.org/faq/\n",
      "http://wiki.python.org/moin/Languages\n",
      "http://python.org/dev/peps/\n",
      "https://wiki.python.org/moin/PythonBooks\n",
      "/community/\n",
      "/community/diversity/\n",
      "/community/irc/\n",
      "/community/lists/\n",
      "/community/workshops/\n",
      "/community/sigs/\n",
      "https://wiki.python.org/moin/\n",
      "/community/logos/\n",
      "/community/merchandise/\n",
      "/community/awards\n",
      "/about/success/\n",
      "/about/success/#arts\n",
      "/about/success/#business\n",
      "/about/success/#education\n",
      "/about/success/#engineering\n",
      "/about/success/#government\n",
      "/about/success/#scientific\n",
      "/about/success/#software-development\n",
      "/blogs/\n",
      "/blogs/\n",
      "http://planetpython.org/\n",
      "http://pyfound.blogspot.com/\n",
      "http://pycon.blogspot.com/\n",
      "/events/\n",
      "/events/python-events\n",
      "/events/python-user-group/\n",
      "/events/python-events/past/\n",
      "/events/python-user-group/past/\n",
      "https://wiki.python.org/moin/PythonEventsCalendar#Submitting_an_Event\n",
      "/shell/\n",
      "//docs.python.org/3/tutorial/controlflow.html#defining-functions\n",
      "//docs.python.org/3/tutorial/introduction.html#lists\n",
      "http://docs.python.org/3/tutorial/introduction.html#using-python-as-a-calculator\n",
      "//docs.python.org/3/tutorial/\n",
      "//docs.python.org/3/tutorial/controlflow.html\n",
      "/doc/\n",
      "/about/gettingstarted/\n",
      "https://wiki.python.org/moin/Python2orPython3\n",
      "/downloads/release/python-352/\n",
      "/downloads/release/python-2712/\n",
      "https://docs.python.org\n",
      "//jobs.python.org\n",
      "http://blog.python.org\n",
      "http://feedproxy.google.com/~r/PythonInsider/~3/ZLTGxjKhYp0/python-core-development-sprint-2016-36.html\n",
      "http://feedproxy.google.com/~r/PythonInsider/~3/6vXS6z9YHg0/python-360-beta-1-is-now-available.html\n",
      "http://feedproxy.google.com/~r/PythonInsider/~3/ukG8L0FEq2Q/python-360-alpha-4-preview-release-is.html\n",
      "http://feedproxy.google.com/~r/PythonInsider/~3/6i6vUY_x_SE/python-360-alpha-3-preview-release-is.html\n",
      "http://feedproxy.google.com/~r/PythonInsider/~3/1zUlkKxW27U/python-2712-released.html\n",
      "/events/calendars/\n",
      "/events/python-events/446/\n",
      "/events/python-user-group/454/\n",
      "/events/python-events/449/\n",
      "/events/python-events/417/\n",
      "/events/python-events/461/\n",
      "/success-stories/\n",
      "/success-stories/industrial-light-magic-runs-python/\n",
      "/success-stories/industrial-light-magic-runs-python/\n",
      "/about/apps\n",
      "http://www.djangoproject.com/\n",
      "http://www.pylonsproject.org/\n",
      "http://bottlepy.org\n",
      "http://tornadoweb.org\n",
      "http://flask.pocoo.org/\n",
      "http://www.web2py.com/\n",
      "http://www.wxpython.org/\n",
      "http://wiki.python.org/moin/TkInter\n",
      "http://www.pygtk.org\n",
      "https://wiki.gnome.org/Projects/PyGObject\n",
      "http://www.riverbankcomputing.co.uk/software/pyqt/intro\n",
      "http://www.scipy.org\n",
      "http://pandas.pydata.org/\n",
      "http://ipython.org\n",
      "http://buildbot.net/\n",
      "http://trac.edgewall.org/\n",
      "http://roundup.sourceforge.net/\n",
      "http://www.ansible.com\n",
      "http://www.saltstack.com\n",
      "https://www.openstack.org\n",
      "/dev/peps/\n",
      "/dev/peps/peps.rss\n",
      "/psf/\n",
      "/psf/\n",
      "/users/membership/\n",
      "/psf/donations/\n",
      "#python-network\n",
      "/about/\n",
      "/about/apps/\n",
      "/about/quotes/\n",
      "/about/gettingstarted/\n",
      "/about/help/\n",
      "http://brochure.getpython.info/\n",
      "/downloads/\n",
      "/downloads/\n",
      "/downloads/source/\n",
      "/downloads/windows/\n",
      "/downloads/mac-osx/\n",
      "/download/other/\n",
      "https://docs.python.org/3/license.html\n",
      "/download/alternatives\n",
      "/doc/\n",
      "/doc/\n",
      "/doc/av\n",
      "https://wiki.python.org/moin/BeginnersGuide\n",
      "https://docs.python.org/devguide/\n",
      "https://docs.python.org/faq/\n",
      "http://wiki.python.org/moin/Languages\n",
      "http://python.org/dev/peps/\n",
      "https://wiki.python.org/moin/PythonBooks\n",
      "/community/\n",
      "/community/diversity/\n",
      "/community/irc/\n",
      "/community/lists/\n",
      "/community/workshops/\n",
      "/community/sigs/\n",
      "https://wiki.python.org/moin/\n",
      "/community/logos/\n",
      "/community/merchandise/\n",
      "/community/awards\n",
      "/about/success/\n",
      "/about/success/#arts\n",
      "/about/success/#business\n",
      "/about/success/#education\n",
      "/about/success/#engineering\n",
      "/about/success/#government\n",
      "/about/success/#scientific\n",
      "/about/success/#software-development\n",
      "/blogs/\n",
      "/blogs/\n",
      "http://planetpython.org/\n",
      "http://pyfound.blogspot.com/\n",
      "http://pycon.blogspot.com/\n",
      "/events/\n",
      "/events/python-events\n",
      "/events/python-user-group/\n",
      "/events/python-events/past/\n",
      "/events/python-user-group/past/\n",
      "https://wiki.python.org/moin/PythonEventsCalendar#Submitting_an_Event\n",
      "/dev/\n",
      "http://docs.python.org/devguide/\n",
      "http://bugs.python.org/\n",
      "https://mail.python.org/mailman/listinfo/python-dev\n",
      "http://pythonmentors.com/\n",
      "#python-network\n",
      "/about/help/\n",
      "/community/diversity/\n",
      "https://github.com/python/pythondotorg/issues\n",
      "https://status.python.org/\n",
      "/psf-landing/\n",
      "/about/legal/\n",
      "/privacy/\n"
     ]
    }
   ],
   "source": [
    "for tag in aTags:\n",
    "    print tag.attrs['href']\n",
    "# attrs는 속성"
   ]
  },
  {
   "cell_type": "code",
   "execution_count": 30,
   "metadata": {
    "collapsed": false
   },
   "outputs": [
    {
     "data": {
      "text/plain": [
       "str"
      ]
     },
     "execution_count": 30,
     "metadata": {},
     "output_type": "execute_result"
    }
   ],
   "source": [
    "## X Path\n",
    "from lxml import etree\n",
    "import urllib\n",
    "res = urllib.urlopen('http://python.org')\n",
    "_html = res.read()\n",
    "type(_html)"
   ]
  },
  {
   "cell_type": "raw",
   "metadata": {},
   "source": []
  },
  {
   "cell_type": "code",
   "execution_count": 33,
   "metadata": {
    "collapsed": false
   },
   "outputs": [],
   "source": [
    "## 트리로 만든다\n",
    "_htmlTree= etree.HTML(_html)"
   ]
  },
  {
   "cell_type": "code",
   "execution_count": 39,
   "metadata": {
    "collapsed": false
   },
   "outputs": [],
   "source": [
    "nodes=_htmlTree.xpath('//*[@href]')"
   ]
  },
  {
   "cell_type": "code",
   "execution_count": 40,
   "metadata": {
    "collapsed": false
   },
   "outputs": [
    {
     "name": "stdout",
     "output_type": "stream",
     "text": [
      "None\n",
      "None\n",
      "None\n",
      "None\n",
      "None\n",
      "None\n",
      "None\n",
      "None\n",
      "None\n",
      "None\n",
      "Skip to content\n",
      "\n",
      "                    \n",
      "Python\n",
      "PSF\n",
      "Docs\n",
      "PyPI\n",
      "Jobs\n",
      "Community\n",
      "\n",
      "                    \n",
      "None\n",
      "None\n",
      "None\n",
      "Smaller\n",
      "Larger\n",
      "Reset\n",
      "Socialize\n",
      "None\n",
      "None\n",
      "None\n",
      "None\n",
      "Sign In\n",
      "Sign Up / Register\n",
      "Sign In\n",
      "About\n",
      "Applications\n",
      "Quotes\n",
      "Getting Started\n",
      "Help\n",
      "Python Brochure\n",
      "Downloads\n",
      "All releases\n",
      "Source code\n",
      "Windows\n",
      "Mac OS X\n",
      "Other Platforms\n",
      "License\n",
      "Alternative Implementations\n",
      "Documentation\n",
      "Docs\n",
      "Audio/Visual Talks\n",
      "Beginner's Guide\n",
      "Developer's Guide\n",
      "FAQ\n",
      "Non-English Docs\n",
      "PEP Index\n",
      "Python Books\n",
      "Community\n",
      "Diversity\n",
      "IRC\n",
      "Mailing Lists\n",
      "Python Conferences\n",
      "Special Interest Groups\n",
      "Python Wiki\n",
      "Python Logo\n",
      "Merchandise\n",
      "Community Awards\n",
      "Success Stories\n",
      "Arts\n",
      "Business\n",
      "Education\n",
      "Engineering\n",
      "Government\n",
      "Scientific\n",
      "Software Development\n",
      "News\n",
      "Python News\n",
      "Community News\n",
      "PSF News\n",
      "PyCon News\n",
      "Events\n",
      "Python Events\n",
      "User Group Events\n",
      "Python Events Archive\n",
      "User Group Events Archive\n",
      "Submit an Event\n",
      ">_\n",
      "                        \n",
      "More about defining functions in Python 3\n",
      "More about lists in Python 3\n",
      "More about simple math functions in Python 3\n",
      "Whet your appetite\n",
      "More control flow tools in Python 3\n",
      "Learn More\n",
      "Start with our Beginner’s Guide\n",
      "Check here\n",
      "Python 3.5.2\n",
      "Python 2.7.12\n",
      "docs.python.org\n",
      "jobs.python.org\n",
      "More\n",
      "From September 5th to the 9th a group of Python ...\n",
      "Python 3.6.0b1 is the first of four planned beta releases of ...\n",
      "Python 3.6.0a4 has been released.  3.6.0a4 is the last of four planned alpha ...\n",
      "Python 3.6.0a3 has been released.  3.6.0a3 is the third of four planned alpha ...\n",
      "The Python 2.7.x series has a new bugfix release, Python ...\n",
      "More\n",
      "Python San Sebastian 2016\n",
      "TechPyWorkshop 2016\n",
      "PyCon Siberia 2016\n",
      "PyCon ZA 2016\n",
      "PyConES 2016 - Almeria\n",
      "More\n",
      "ILM runs a batch processing environment capable of modeling, rendering and compositing tens of thousands of motion picture frames per day. Thousands of machines running Linux, IRIX, Compaq Tru64, OS X, Solaris, and Windows join together to provide a production pipeline used by ~800 users daily. Speed of development is key, and Python was a faster way to code (and re-code) the programs that control this production pipeline.\n",
      "Industrial Light & Magic Runs on Python\n",
      "More\n",
      "Django\n",
      "Pyramid\n",
      "Bottle\n",
      "Tornado\n",
      "Flask\n",
      "web2py\n",
      "wxPython\n",
      "tkInter\n",
      "PyGtk\n",
      "PyGObject\n",
      "PyQt\n",
      "SciPy\n",
      "Pandas\n",
      "IPython\n",
      "Buildbot\n",
      "Trac\n",
      "Roundup\n",
      "Ansible\n",
      "Salt\n",
      "OpenStack\n",
      "Python Enhancement Proposals\n",
      "None\n",
      "Python Software Foundation\n",
      "Learn more\n",
      "Become a Member\n",
      "Donate to the PSF\n",
      "None\n",
      "About\n",
      "Applications\n",
      "Quotes\n",
      "Getting Started\n",
      "Help\n",
      "Python Brochure\n",
      "Downloads\n",
      "All releases\n",
      "Source code\n",
      "Windows\n",
      "Mac OS X\n",
      "Other Platforms\n",
      "License\n",
      "Alternative Implementations\n",
      "Documentation\n",
      "Docs\n",
      "Audio/Visual Talks\n",
      "Beginner's Guide\n",
      "Developer's Guide\n",
      "FAQ\n",
      "Non-English Docs\n",
      "PEP Index\n",
      "Python Books\n",
      "Community\n",
      "Diversity\n",
      "IRC\n",
      "Mailing Lists\n",
      "Python Conferences\n",
      "Special Interest Groups\n",
      "Python Wiki\n",
      "Python Logo\n",
      "Merchandise\n",
      "Community Awards\n",
      "Success Stories\n",
      "Arts\n",
      "Business\n",
      "Education\n",
      "Engineering\n",
      "Government\n",
      "Scientific\n",
      "Software Development\n",
      "News\n",
      "Python News\n",
      "Community News\n",
      "PSF News\n",
      "PyCon News\n",
      "Events\n",
      "Python Events\n",
      "User Group Events\n",
      "Python Events Archive\n",
      "User Group Events Archive\n",
      "Submit an Event\n",
      "Contributing\n",
      "Developer's Guide\n",
      "Issue Tracker\n",
      "python-dev list\n",
      "Core Mentorship\n",
      "None\n",
      "Help & \n",
      "Diversity \n",
      "Submit Website Bug\n",
      "Status \n",
      "Python Software Foundation\n",
      "Legal Statements\n",
      "Privacy Policy\n"
     ]
    }
   ],
   "source": [
    "for node in nodes:\n",
    "    print node.text"
   ]
  },
  {
   "cell_type": "code",
   "execution_count": 42,
   "metadata": {
    "collapsed": true
   },
   "outputs": [],
   "source": [
    "## CSS Selector\n",
    "import lxml.html\n",
    "from lxml.cssselect import CSSSelector"
   ]
  },
  {
   "cell_type": "raw",
   "metadata": {},
   "source": []
  },
  {
   "cell_type": "code",
   "execution_count": 45,
   "metadata": {
    "collapsed": false
   },
   "outputs": [],
   "source": [
    "import requests\n",
    "req = requests.get('http://python.org')"
   ]
  },
  {
   "cell_type": "raw",
   "metadata": {},
   "source": [
    " "
   ]
  },
  {
   "cell_type": "code",
   "execution_count": 47,
   "metadata": {
    "collapsed": false
   },
   "outputs": [
    {
     "data": {
      "text/plain": [
       "requests.models.Response"
      ]
     },
     "execution_count": 47,
     "metadata": {},
     "output_type": "execute_result"
    }
   ],
   "source": [
    "type(req)"
   ]
  },
  {
   "cell_type": "code",
   "execution_count": 49,
   "metadata": {
    "collapsed": false
   },
   "outputs": [],
   "source": [
    "html = lxml.html.fromstring(req.text)"
   ]
  },
  {
   "cell_type": "code",
   "execution_count": null,
   "metadata": {
    "collapsed": true
   },
   "outputs": [],
   "source": [
    "## beautifulsoup 이나 x path, regex 는 각각 가져올 수 있는게 다르기때문에 잘 확인해야 한다.\n"
   ]
  },
  {
   "cell_type": "code",
   "execution_count": null,
   "metadata": {
    "collapsed": true
   },
   "outputs": [],
   "source": []
  },
  {
   "cell_type": "code",
   "execution_count": 50,
   "metadata": {
    "collapsed": false
   },
   "outputs": [
    {
     "ename": "TypeError",
     "evalue": "__init__() takes at least 2 arguments (1 given)",
     "output_type": "error",
     "traceback": [
      "\u001b[1;31m---------------------------------------------------------------------------\u001b[0m",
      "\u001b[1;31mTypeError\u001b[0m                                 Traceback (most recent call last)",
      "\u001b[1;32m<ipython-input-50-9710a9dcec6d>\u001b[0m in \u001b[0;36m<module>\u001b[1;34m()\u001b[0m\n\u001b[1;32m----> 1\u001b[1;33m \u001b[0msel\u001b[0m\u001b[1;33m=\u001b[0m\u001b[0mCSSSelector\u001b[0m\u001b[1;33m(\u001b[0m\u001b[1;33m)\u001b[0m\u001b[1;33m\u001b[0m\u001b[0m\n\u001b[0m\u001b[0;32m      2\u001b[0m \u001b[0mresult\u001b[0m \u001b[1;33m=\u001b[0m \u001b[0msel\u001b[0m\u001b[1;33m(\u001b[0m\u001b[0mhtml\u001b[0m\u001b[1;33m)\u001b[0m\u001b[1;33m\u001b[0m\u001b[0m\n",
      "\u001b[1;31mTypeError\u001b[0m: __init__() takes at least 2 arguments (1 given)"
     ]
    }
   ],
   "source": [
    "sel=CSSSelector()\n",
    "result = sel(html)"
   ]
  }
 ],
 "metadata": {
  "anaconda-cloud": {},
  "kernelspec": {
   "display_name": "Python [Root]",
   "language": "python",
   "name": "Python [Root]"
  },
  "language_info": {
   "codemirror_mode": {
    "name": "ipython",
    "version": 2
   },
   "file_extension": ".py",
   "mimetype": "text/x-python",
   "name": "python",
   "nbconvert_exporter": "python",
   "pygments_lexer": "ipython2",
   "version": "2.7.12"
  }
 },
 "nbformat": 4,
 "nbformat_minor": 0
}
